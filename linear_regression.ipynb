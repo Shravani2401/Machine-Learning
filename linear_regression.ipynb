{
  "cells": [
    {
      "cell_type": "code",
      "execution_count": 3,
      "id": "5a175fdb-f11c-4174-b701-dfbb4952b32d",
      "metadata": {
        "id": "5a175fdb-f11c-4174-b701-dfbb4952b32d"
      },
      "outputs": [],
      "source": [
        "import pandas as pd\n",
        "import numpy as np\n",
        "import matplotlib.pyplot as plt\n",
        "import seaborn as sns\n",
        "from sklearn.model_selection import train_test_split\n",
        "from sklearn.linear_model import LinearRegression\n",
        "from sklearn.metrics import mean_absolute_error, mean_squared_error, r2_score\n"
      ]
    },
    {
      "cell_type": "code",
      "execution_count": 4,
      "id": "0211cc18-1b35-47ea-b567-6acf1b766ecf",
      "metadata": {
        "id": "0211cc18-1b35-47ea-b567-6acf1b766ecf"
      },
      "outputs": [],
      "source": [
        "df = pd.read_csv('/content/electricity_bill_dataset.csv')"
      ]
    },
    {
      "cell_type": "code",
      "execution_count": null,
      "id": "ff0223bd-04dd-46a5-b513-bd81763bd2d3",
      "metadata": {
        "id": "ff0223bd-04dd-46a5-b513-bd81763bd2d3",
        "outputId": "bc978134-5f93-4d7b-d69e-a7d65b0b9df4"
      },
      "outputs": [
        {
          "name": "stdout",
          "output_type": "stream",
          "text": [
            "<class 'pandas.core.frame.DataFrame'>\n",
            "RangeIndex: 614 entries, 0 to 613\n",
            "Data columns (total 13 columns):\n",
            " #   Column             Non-Null Count  Dtype  \n",
            "---  ------             --------------  -----  \n",
            " 0   Loan_ID            614 non-null    object \n",
            " 1   Gender             601 non-null    object \n",
            " 2   Married            611 non-null    object \n",
            " 3   Dependents         599 non-null    object \n",
            " 4   Education          614 non-null    object \n",
            " 5   Self_Employed      582 non-null    object \n",
            " 6   ApplicantIncome    614 non-null    int64  \n",
            " 7   CoapplicantIncome  614 non-null    float64\n",
            " 8   LoanAmount         592 non-null    float64\n",
            " 9   Loan_Amount_Term   600 non-null    float64\n",
            " 10  Credit_History     564 non-null    float64\n",
            " 11  Property_Area      614 non-null    object \n",
            " 12  Loan_Status        614 non-null    object \n",
            "dtypes: float64(4), int64(1), object(8)\n",
            "memory usage: 62.5+ KB\n"
          ]
        }
      ],
      "source": [
        "df.info()"
      ]
    },
    {
      "cell_type": "code",
      "execution_count": 5,
      "id": "84e58b1d-acee-4e0f-b79d-dc1ee732c8af",
      "metadata": {
        "colab": {
          "base_uri": "https://localhost:8080/"
        },
        "id": "84e58b1d-acee-4e0f-b79d-dc1ee732c8af",
        "outputId": "87b285d3-1de5-432c-c97a-b56a7462045e"
      },
      "outputs": [
        {
          "output_type": "execute_result",
          "data": {
            "text/plain": [
              "Index(['Fan', 'Refrigerator', 'AirConditioner', 'Television', 'Monitor',\n",
              "       'MotorPump', 'Month', 'City', 'Company', 'MonthlyHours', 'TariffRate',\n",
              "       'ElectricityBill'],\n",
              "      dtype='object')"
            ]
          },
          "metadata": {},
          "execution_count": 5
        }
      ],
      "source": [
        "df.columns"
      ]
    },
    {
      "cell_type": "code",
      "execution_count": 8,
      "id": "5f46b60f-ff60-451a-90c5-11a5968c2f3a",
      "metadata": {
        "id": "5f46b60f-ff60-451a-90c5-11a5968c2f3a"
      },
      "outputs": [],
      "source": [
        "\n",
        "for col in ['Month', 'City', 'Company']:\n",
        "    if col in df.columns:\n",
        "        df[col] = df[col].fillna(df[col].mode()[0])\n",
        "\n",
        "\n",
        "for col in ['Units_Consumed', 'Bill_Amount']:\n",
        "    if col in df.columns:\n",
        "        df[col] = df[col].fillna(df[col].median())\n"
      ]
    },
    {
      "cell_type": "code",
      "execution_count": 9,
      "id": "1c8d54f3-969b-4852-9067-75eeba0ed2b3",
      "metadata": {
        "id": "1c8d54f3-969b-4852-9067-75eeba0ed2b3"
      },
      "outputs": [],
      "source": [
        "df = pd.get_dummies(df, drop_first=True)"
      ]
    },
    {
      "cell_type": "code",
      "execution_count": 13,
      "id": "1f989a29-2a84-486c-bf83-049a19000323",
      "metadata": {
        "colab": {
          "base_uri": "https://localhost:8080/"
        },
        "id": "1f989a29-2a84-486c-bf83-049a19000323",
        "outputId": "bf38fda2-0089-4177-f11c-9866cf385130"
      },
      "outputs": [
        {
          "output_type": "stream",
          "name": "stdout",
          "text": [
            "\n",
            "Mean of Monthly Hours: 515.0832065277318\n",
            "Mean of Electricity Bill: 4311.771306649024\n"
          ]
        }
      ],
      "source": [
        "x_mean = df[\"MonthlyHours\"].mean()\n",
        "y_mean = df[\"ElectricityBill\"].mean()\n",
        "print(\"\\nMean of Monthly Hours:\", x_mean)\n",
        "print(\"Mean of Electricity Bill:\", y_mean)\n",
        "\n"
      ]
    },
    {
      "cell_type": "code",
      "execution_count": 15,
      "id": "3a026ae2-9a2c-481c-8605-24d6a6afa416",
      "metadata": {
        "colab": {
          "base_uri": "https://localhost:8080/"
        },
        "id": "3a026ae2-9a2c-481c-8605-24d6a6afa416",
        "outputId": "6e4c4e15-ef79-4cab-a66d-7d357d90d61a"
      },
      "outputs": [
        {
          "output_type": "stream",
          "name": "stdout",
          "text": [
            "\n",
            "Calculated Slope (B1): 8.396294112929326\n"
          ]
        }
      ],
      "source": [
        "\n",
        "numerator = ((df[\"MonthlyHours\"] - x_mean) * (df[\"ElectricityBill\"] - y_mean)).sum()\n",
        "denominator = ((df[\"MonthlyHours\"] - x_mean) ** 2).sum()\n",
        "\n",
        "B1 = numerator / denominator\n",
        "print(\"\\nCalculated Slope (B1):\", B1)\n"
      ]
    },
    {
      "cell_type": "code",
      "execution_count": 16,
      "id": "45fd761a-be81-4480-bbf1-bfb77e1c1e3f",
      "metadata": {
        "colab": {
          "base_uri": "https://localhost:8080/"
        },
        "id": "45fd761a-be81-4480-bbf1-bfb77e1c1e3f",
        "outputId": "db3f4312-c011-44ff-f06a-4e61f40a49fe"
      },
      "outputs": [
        {
          "output_type": "stream",
          "name": "stdout",
          "text": [
            "Calculated Intercept (B0): -13.018787988530676\n"
          ]
        }
      ],
      "source": [
        "B0 = y_mean - (B1 * x_mean)\n",
        "print(\"Calculated Intercept (B0):\", B0)"
      ]
    },
    {
      "cell_type": "code",
      "execution_count": 17,
      "id": "69dcb4d5-5e54-490c-898d-8b018236d829",
      "metadata": {
        "id": "69dcb4d5-5e54-490c-898d-8b018236d829"
      },
      "outputs": [],
      "source": [
        "df[\"Predicted_ElectricityBill\"] = B0 + B1 * df[\"MonthlyHours\"]\n"
      ]
    },
    {
      "cell_type": "code",
      "execution_count": 18,
      "id": "09477d84-3544-4190-9e77-98430a1c55de",
      "metadata": {
        "colab": {
          "base_uri": "https://localhost:8080/",
          "height": 472
        },
        "id": "09477d84-3544-4190-9e77-98430a1c55de",
        "outputId": "e129d82a-3181-463b-aa8a-ade0df85c454"
      },
      "outputs": [
        {
          "output_type": "display_data",
          "data": {
            "text/plain": [
              "<Figure size 640x480 with 1 Axes>"
            ],
            "image/png": "[encoded data removed]"
          },
          "metadata": {}
        }
      ],
      "source": [
        "plt.scatter(df[\"MonthlyHours\"], df[\"ElectricityBill\"], color='blue', label=\"Actual Data\")\n",
        "plt.plot(df[\"MonthlyHours\"], df[\"Predicted_ElectricityBill\"], color='red', label=\"Regression Line\")\n",
        "plt.xlabel(\"Monthly Hours\")\n",
        "plt.ylabel(\"Electricity Bill\")\n",
        "plt.title(\"Simple Linear Regression\")\n",
        "plt.legend()\n",
        "plt.show()\n"
      ]
    },
    {
      "cell_type": "code",
      "execution_count": 19,
      "id": "169b386b-6401-4667-8480-6010337d0018",
      "metadata": {
        "colab": {
          "base_uri": "https://localhost:8080/"
        },
        "id": "169b386b-6401-4667-8480-6010337d0018",
        "outputId": "d9b5573d-7820-4752-ab95-f7c65599ed84"
      },
      "outputs": [
        {
          "output_type": "stream",
          "name": "stdout",
          "text": [
            "\n",
            "Root Mean Squared Error (RMSE): 305.4237391524915\n"
          ]
        }
      ],
      "source": [
        "rmse = np.sqrt(((df[\"ElectricityBill\"] - df[\"Predicted_ElectricityBill\"]) ** 2).mean())\n",
        "print(\"\\nRoot Mean Squared Error (RMSE):\", rmse)\n"
      ]
    },
    {
      "cell_type": "code",
      "execution_count": null,
      "id": "56d44f85-3f55-4294-8399-6c763ebf59e0",
      "metadata": {
        "id": "56d44f85-3f55-4294-8399-6c763ebf59e0"
      },
      "outputs": [],
      "source": []
    }
  ],
  "metadata": {
    "kernelspec": {
      "display_name": "Python 3 (ipykernel)",
      "language": "python",
      "name": "python3"
    },
    "language_info": {
      "codemirror_mode": {
        "name": "ipython",
        "version": 3
      },
      "file_extension": ".py",
      "mimetype": "text/x-python",
      "name": "python",
      "nbconvert_exporter": "python",
      "pygments_lexer": "ipython3",
      "version": "3.12.7"
    },
    "colab": {
      "provenance": []
    }
  },
  "nbformat": 4,
  "nbformat_minor": 5
}
